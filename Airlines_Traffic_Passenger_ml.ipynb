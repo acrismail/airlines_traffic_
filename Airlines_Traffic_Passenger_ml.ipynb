{
  "nbformat": 4,
  "nbformat_minor": 0,
  "metadata": {
    "colab": {
      "private_outputs": true,
      "provenance": [],
      "authorship_tag": "ABX9TyP9rpKRlLfg7EQCaSeppNb2",
      "include_colab_link": true
    },
    "kernelspec": {
      "name": "python3",
      "display_name": "Python 3"
    },
    "language_info": {
      "name": "python"
    },
    "accelerator": "GPU",
    "gpuClass": "standard"
  },
  "cells": [
    {
      "cell_type": "markdown",
      "metadata": {
        "id": "view-in-github",
        "colab_type": "text"
      },
      "source": [
        "<a href=\"https://colab.research.google.com/github/acrismail/airlines_traffic_/blob/main/Airlines_Traffic_Passenger_ml.ipynb\" target=\"_parent\"><img src=\"https://colab.research.google.com/assets/colab-badge.svg\" alt=\"Open In Colab\"/></a>"
      ]
    },
    {
      "cell_type": "markdown",
      "source": [
        "## About Dataset\n",
        "## Airlines Traffic Passenger Statistics\n",
        "\n",
        "* A New Look at an Old Problem\n",
        "* About this dataset\n",
        "\n",
        "This dataset contains information on air traffic passenger statistics by the airline. It includes information on the airlines, airports, and regions that the flights departed from and arrived at. It also includes information on the type of activity, price category, terminal, boarding area, and number of passengers\n",
        "\n",
        "* How to use the dataset\n",
        "\n",
        "Air traffic passenger statistics can be a useful tool for understanding the airline industry and for making travel plans. This dataset from Open Flights contains information on air traffic passenger statistics by airline for 2017. The data includes the number of passengers, the operating airline, the published airline, the geographic region, the activity type code, the price category code, the terminal, the boarding area, and the year and month of the flight\n",
        "\n",
        "Research Ideas\n",
        "\n",
        "Air traffic passenger statistics could be used to predict future trends in air travel.\n",
        "The data could be used to generate heat maps of airline traffic patterns.\n",
        "The data could be used to study the effects of different factors on air traffic passenger numbers, such as the time of year or day, the price of airfare, or the number of flights offered by an airline\n",
        "\n",
        "\n",
        "## Features Illustrations\n",
        "\n",
        "0--Index\n",
        "\n",
        "1--Activity Period----The date of the activity. (Date)\n",
        "\n",
        "2--Operating Airline----The airline that operated the flight. (String)\n",
        "\n",
        "3--Operating Airline IATA Code----Operating Airline IATA Code\n",
        "\n",
        "4--Published Airline----The airline that published the fare for the flight. (String)\n",
        "\n",
        "5--Published Airline IATA Code----The IATA code of the airline that published the fare for the flight. (String)\n",
        "\n",
        "6--GEO Summary----A summary of the geographic region. (String)\n",
        "\n",
        "7--GEO Region----The geographic region. (String)\n",
        "\n",
        "8--Activity Type Code----The type of activity. (String)\n",
        "\n",
        "9--Price Category Code----The price category of the fare. (String)\n",
        "\n",
        "10--Terminal----The terminal of the flight. (String)\n",
        "\n",
        "11--Boarding Area----The boarding area of the flight. (String)\n",
        "\n",
        "12--Passenger Count----The number of passengers on the flight. (Integer)\n",
        "\n",
        "13--Adjusted Activity Type Code----The type of activity, adjusted for missing data. (String)\n",
        "\n",
        "14--Adjusted Passenger Count----The number of passengers on the flight, adjusted for missing data. (Integer)\n",
        "\n",
        "15--Year----The year of the activity. (Integer)\n",
        "\n",
        "16--Month----The month of the activity. (Integer)\n",
        "\n",
        "\n",
        "## Veri Kümesi Hakkında\n",
        "\n",
        "## Havayolları Trafik Yolcu İstatistikleri\n",
        "\n",
        "Eski Bir Soruna Yeni Bir Bakış\n",
        "\n",
        "Bu veri kümesi hakkında\n",
        "\n",
        "Bu veri seti, havayolu tarafından hava trafiği yolcu istatistikleri hakkında bilgi içerir. Uçuşların kalkış ve varış yaptığı havayolları, havalimanları ve bölgelere ilişkin bilgileri içerir. Ayrıca faaliyet türü, fiyat kategorisi, terminal, biniş alanı ve yolcu sayısı hakkında bilgiler içerir.\n",
        "\n",
        "veri kümesi nasıl kullanılır;\n",
        "\n",
        "Hava trafiği yolcu istatistikleri, havayolu endüstrisini anlamak ve seyahat planları yapmak için yararlı bir araç olabilir. Open Flights'tan alınan bu veri kümesi, 2017 yılı için havayoluna göre hava trafiği yolcu istatistikleri hakkında bilgi içerir. Veriler arasında yolcu sayısı, faaliyet gösteren havayolu şirketi, yayınlanan havayolu şirketi, coğrafi bölge, aktivite türü kodu, fiyat kategori kodu, terminal, biniş alanı ve uçuş yılı ve ayı\n",
        "\n",
        "Araştırma Fikirleri;\n",
        "\n",
        "Hava trafiği yolcu istatistikleri, hava yolculuğunda gelecekteki eğilimleri tahmin etmek için kullanılabilir.\n",
        "Veriler, havayolu trafik modellerinin ısı haritalarını oluşturmak için kullanılabilir.\n",
        "Veriler, yılın veya günün saati, uçak bileti fiyatı veya bir havayolu tarafından sunulan uçuş sayısı gibi farklı faktörlerin hava trafiği yolcu sayıları üzerindeki etkilerini incelemek için kullanılabilir.\n",
        "\n",
        "## Özellikler Resimleri\n",
        "\n",
        "0--Dizin\n",
        "\n",
        "1--Faaliyet Süresi----Faaliyetin tarihi. (Tarih)\n",
        "\n",
        "2--İşleten Havayolu----Uçuşu gerçekleştiren havayolu. (Sicim)\n",
        "\n",
        "3--İşletilen Havayolu IATA Kodu----İşletilen Havayolu IATA Kodu\n",
        "\n",
        "4--Yayınlanan Havayolu----Uçuş ücretini yayınlayan havayolu. (Sicim)\n",
        "\n",
        "5--Yayınlanan Havayolu IATA Kodu----Uçuş ücretini yayınlayan havayolunun IATA kodu. (Sicim)\n",
        "\n",
        "6--GEO Özeti----Coğrafi bölgenin özeti. (Sicim)\n",
        "\n",
        "7--GEO Bölgesi----Coğrafi bölge. (Sicim)\n",
        "\n",
        "8--Aktivite Türü Kodu----Aktivite türü. (Sicim)\n",
        "\n",
        "9--Fiyat Kategorisi Kodu----Ücretin fiyat kategorisi. (Sicim)\n",
        "\n",
        "10--Terminal----Uçuş terminali. (Sicim)\n",
        "\n",
        "11--Biniş Alanı----Uçuşun biniş alanı. (Sicim)\n",
        "\n",
        "12--Yolcu Sayısı----Uçuştaki yolcu sayısı. (Tam sayı)\n",
        "\n",
        "13--Düzeltilmiş Etkinlik Türü Kodu----Eksik veriler için düzeltilmiş etkinlik türü. (Sicim)\n",
        "\n",
        "14--Düzeltilmiş Yolcu Sayısı----Eksik veriler için düzeltilmiş uçuştaki yolcu sayısı. (Tam sayı)\n",
        "\n",
        "15--Yıl----Faaliyet yılı. (Tam sayı)\n",
        "\n",
        "16--Ay----Etkinliğin ayı. (Tam sayı)"
      ],
      "metadata": {
        "id": "9vSXIZZdVrQJ"
      }
    },
    {
      "cell_type": "markdown",
      "source": [
        "## Analysis Content \n",
        "* 1.[Python Libraries](#1)\n",
        "* 2.[data loading](#2)\n",
        "* 3.[EDA](#3)\n",
        "* 4.[data Preprocessing](#4)\n",
        "* 5.[K-MEANS](#5) \n",
        "* 6.[Hierarcihal Cluster](#6)   \n",
        "* 7.[conclusion](#7)  "
      ],
      "metadata": {
        "id": "2ivFDW4cV7Wg"
      }
    },
    {
      "cell_type": "markdown",
      "source": [
        "<a id=\"1\"></a>\n",
        "## 1.Python Libraries"
      ],
      "metadata": {
        "id": "CDmWobpCWAiy"
      }
    },
    {
      "cell_type": "code",
      "source": [
        "import numpy as np\n",
        "import pandas as pd\n",
        "import seaborn as sns\n",
        "import matplotlib.pyplot as plt\n",
        "from sklearn.preprocessing import StandardScaler\n",
        "from sklearn.cluster import KMeans\n",
        "import missingno as msno\n",
        "import scipy.cluster.hierarchy as sch\n",
        "from scipy.cluster.hierarchy import linkage,dendrogram\n",
        "from sklearn.decomposition import PCA\n",
        "import plotly.express as px\n",
        "import warnings   \n",
        "warnings.filterwarnings(\"ignore\",category=DeprecationWarning)\n",
        "warnings.filterwarnings(\"ignore\",category=FutureWarning)"
      ],
      "metadata": {
        "id": "oTqoTa7lVcR5"
      },
      "execution_count": null,
      "outputs": []
    },
    {
      "cell_type": "markdown",
      "source": [
        "<a id=\"2\"></a>\n",
        "## 2.Data Loading"
      ],
      "metadata": {
        "id": "16QrhXZyWHAC"
      }
    },
    {
      "cell_type": "code",
      "source": [
        "df=pd.read_csv(\"/content/Air_Traffic_Passenger_Statistics.csv\")\n",
        "df.head()"
      ],
      "metadata": {
        "id": "nGi2-4HvWEEE"
      },
      "execution_count": null,
      "outputs": []
    },
    {
      "cell_type": "code",
      "source": [
        "df.tail()"
      ],
      "metadata": {
        "id": "Yv_6nP5TWf_-"
      },
      "execution_count": null,
      "outputs": []
    },
    {
      "cell_type": "markdown",
      "source": [
        "<a id=\"3\"></a>\n",
        "## 3.EDA"
      ],
      "metadata": {
        "id": "UUlCvN5qWnjN"
      }
    },
    {
      "cell_type": "code",
      "source": [
        "#gereksiz değişkeni silelim\n",
        "#delete the unnecessary variable"
      ],
      "metadata": {
        "id": "4gNj346kWhOh"
      },
      "execution_count": null,
      "outputs": []
    },
    {
      "cell_type": "code",
      "source": [
        "df.drop([\"index\",\"Activity Period\"],axis=1,inplace=True)"
      ],
      "metadata": {
        "id": "N3zcxBgzWrHw"
      },
      "execution_count": null,
      "outputs": []
    },
    {
      "cell_type": "code",
      "source": [
        "df.head(3)"
      ],
      "metadata": {
        "id": "a4r-a_a7W3yp"
      },
      "execution_count": null,
      "outputs": []
    },
    {
      "cell_type": "code",
      "source": [
        "df.columns"
      ],
      "metadata": {
        "id": "LGxQxgJDW5rh"
      },
      "execution_count": null,
      "outputs": []
    },
    {
      "cell_type": "code",
      "source": [
        "#kolonları düzeltelim,gereksiz boşlukları atalım\n",
        "#fix the colons, remove the unnecessary spaces\n",
        "\n",
        "df.columns=df.columns.str.replace(\" \",\"_\").str.lower()"
      ],
      "metadata": {
        "id": "A1OVS_dwW9Jj"
      },
      "execution_count": null,
      "outputs": []
    },
    {
      "cell_type": "code",
      "source": [
        "df.columns"
      ],
      "metadata": {
        "id": "hdv9UBe5XMiQ"
      },
      "execution_count": null,
      "outputs": []
    },
    {
      "cell_type": "code",
      "source": [
        "df.shape"
      ],
      "metadata": {
        "id": "PKQVk310XOvY"
      },
      "execution_count": null,
      "outputs": []
    },
    {
      "cell_type": "code",
      "source": [
        "# verisetimiz gerekli düzeltmeler yapıldıktan sonra 15007 satır ve 15 değişkenden oluşmaktadır\n",
        "# Our dataset consists of 15007 rows and 15 variables after necessary corrections are made."
      ],
      "metadata": {
        "id": "n5yGfvePXaC9"
      },
      "execution_count": null,
      "outputs": []
    },
    {
      "cell_type": "code",
      "source": [
        "df.dtypes"
      ],
      "metadata": {
        "id": "9-S_XLB0XS-f"
      },
      "execution_count": null,
      "outputs": []
    },
    {
      "cell_type": "code",
      "source": [
        "# verisetinin değişken tipleri yada info ile gözlemlenebilir daha fazla ayrıntıya ulaşmış oluruz;\n",
        "\n",
        "df.info()"
      ],
      "metadata": {
        "id": "odi7sd99XUtp"
      },
      "execution_count": null,
      "outputs": []
    },
    {
      "cell_type": "code",
      "source": [
        "# verisetimiz 12 string ,3 integer değişkenden oluşuyor,eksik değerler olduğunu gözlemleyebiliyoruz\n",
        "# our dataset consists of 12 strings, 3 integer variables, we can observe that there are missing values"
      ],
      "metadata": {
        "id": "uiqfjjasXiDe"
      },
      "execution_count": null,
      "outputs": []
    },
    {
      "cell_type": "code",
      "source": [
        "#statistical summary\n",
        "\n",
        "df.describe().T"
      ],
      "metadata": {
        "id": "KzEeoc5fXmBY"
      },
      "execution_count": null,
      "outputs": []
    },
    {
      "cell_type": "code",
      "source": [
        "df.operating_airline.value_counts()"
      ],
      "metadata": {
        "id": "ypLzOzsHZg9q"
      },
      "execution_count": null,
      "outputs": []
    },
    {
      "cell_type": "code",
      "source": [
        "# uçuşu gerçekleştiren 77 farklı havayolunun sayılarına eriştik\n",
        "#We reached the numbers of 77 different airlines operating flights"
      ],
      "metadata": {
        "id": "pL6AVB4ZdAhJ"
      },
      "execution_count": null,
      "outputs": []
    },
    {
      "cell_type": "code",
      "source": [
        "df.operating_airline_iata_code.value_counts()"
      ],
      "metadata": {
        "id": "0vcwHnRgdDE_"
      },
      "execution_count": null,
      "outputs": []
    },
    {
      "cell_type": "code",
      "source": [
        "# havayolu kodlarına eriştik\n",
        "# accessed airline codes"
      ],
      "metadata": {
        "id": "rsEWwFsvdFJg"
      },
      "execution_count": null,
      "outputs": []
    },
    {
      "cell_type": "code",
      "source": [
        "df.published_airline.value_counts()"
      ],
      "metadata": {
        "id": "ibqMbeqhdI0s"
      },
      "execution_count": null,
      "outputs": []
    },
    {
      "cell_type": "code",
      "source": [
        "#uçuş ücretini yayımlayan 68 farklı havayolunun sayılarına eriştik"
      ],
      "metadata": {
        "id": "9V3R_fD3dLg2"
      },
      "execution_count": null,
      "outputs": []
    },
    {
      "cell_type": "code",
      "source": [
        "df.published_airline_iata_code.value_counts()"
      ],
      "metadata": {
        "id": "sFSU_FBKdO2R"
      },
      "execution_count": null,
      "outputs": []
    },
    {
      "cell_type": "code",
      "source": [
        "#uçuş ücretini yayımlayan havyollarının kodlarının sayılarına erişmiş olduk"
      ],
      "metadata": {
        "id": "a7rOSWXkdRi-"
      },
      "execution_count": null,
      "outputs": []
    },
    {
      "cell_type": "code",
      "source": [
        "df.geo_summary.value_counts()"
      ],
      "metadata": {
        "id": "9xoQWmzOdUiF"
      },
      "execution_count": null,
      "outputs": []
    },
    {
      "cell_type": "code",
      "source": [
        "#Coğrafi bölgenin özetine eriştik."
      ],
      "metadata": {
        "id": "mIVYlT7UdXdD"
      },
      "execution_count": null,
      "outputs": []
    },
    {
      "cell_type": "code",
      "source": [
        "df.geo_region.value_counts()"
      ],
      "metadata": {
        "id": "rSzsJVcldaHV"
      },
      "execution_count": null,
      "outputs": []
    },
    {
      "cell_type": "code",
      "source": [
        "df.activity_type_code.value_counts()"
      ],
      "metadata": {
        "id": "m8EuI9Pfdd2Q"
      },
      "execution_count": null,
      "outputs": []
    },
    {
      "cell_type": "code",
      "source": [
        "#aktive türündeki her türün sayılarına eriştik"
      ],
      "metadata": {
        "id": "WBM0D_JKdiHx"
      },
      "execution_count": null,
      "outputs": []
    },
    {
      "cell_type": "code",
      "source": [
        "df.price_category_code.value_counts()  #ücretin fiyat kodu"
      ],
      "metadata": {
        "id": "ENKy3hM9dktT"
      },
      "execution_count": null,
      "outputs": []
    },
    {
      "cell_type": "code",
      "source": [
        "df.terminal.value_counts()  # herbir terminaldeki yolcu sayısı"
      ],
      "metadata": {
        "id": "_a53Kq9HdnS1"
      },
      "execution_count": null,
      "outputs": []
    },
    {
      "cell_type": "code",
      "source": [
        "df.boarding_area.value_counts()  #uçuuşun biniş alanı 8 farklı kategorideki sayılarına erişelim"
      ],
      "metadata": {
        "id": "93Ula7yvdqbg"
      },
      "execution_count": null,
      "outputs": []
    },
    {
      "cell_type": "code",
      "source": [
        "df.adjusted_activity_type_code.value_counts() #Eksik veriler için düzeltilmiş etkinlik türü."
      ],
      "metadata": {
        "id": "kUfINt36duNO"
      },
      "execution_count": null,
      "outputs": []
    },
    {
      "cell_type": "code",
      "source": [
        "df.year.value_counts()  # yıllara före yolcu sayısı"
      ],
      "metadata": {
        "id": "42WCd8Ppdxo-"
      },
      "execution_count": null,
      "outputs": []
    },
    {
      "cell_type": "code",
      "source": [
        "df.month.value_counts()  # hangi ayda kaçtane yolcu taşınmış(2005-2016),en fazla yolcu Ağustos ayında taşınmış"
      ],
      "metadata": {
        "id": "1nmXUXj_d0MF"
      },
      "execution_count": null,
      "outputs": []
    },
    {
      "cell_type": "code",
      "source": [
        "df.sort_values(\"year\",ascending=False).head(15)"
      ],
      "metadata": {
        "id": "UJ83g4owd27C"
      },
      "execution_count": null,
      "outputs": []
    },
    {
      "cell_type": "code",
      "source": [
        "df.sort_values(\"adjusted_passenger_count\",ascending=False).head(15)\n"
      ],
      "metadata": {
        "id": "anKQtl_-d6YH"
      },
      "execution_count": null,
      "outputs": []
    },
    {
      "cell_type": "code",
      "source": [
        "df.sort_values(\"passenger_count\",ascending=True).head(15) # en az yolcuuun olduğu uçuşlar"
      ],
      "metadata": {
        "id": "Agw11gzmd_1R"
      },
      "execution_count": null,
      "outputs": []
    },
    {
      "cell_type": "code",
      "source": [
        "df.sort_values(\"passenger_count\",ascending=False).head(15) # en çok yolcunun olduğu uçuşlar"
      ],
      "metadata": {
        "id": "30meCsdUeGYf"
      },
      "execution_count": null,
      "outputs": []
    },
    {
      "cell_type": "code",
      "source": [
        "df.groupby(\"month\").describe().T"
      ],
      "metadata": {
        "id": "voTXy53IeWTj"
      },
      "execution_count": null,
      "outputs": []
    },
    {
      "cell_type": "code",
      "source": [
        "df.groupby(\"month\")[\"year\"].describe().T #her ay için tüm yıllara göre istatistiklere eriştik"
      ],
      "metadata": {
        "id": "qn56OOdMeflG"
      },
      "execution_count": null,
      "outputs": []
    },
    {
      "cell_type": "code",
      "source": [
        "df.groupby(\"operating_airline\")[\"passenger_count\"].describe().T #havayollarına göre uçuş istatistikleri"
      ],
      "metadata": {
        "id": "vmwZMKgGeoMl"
      },
      "execution_count": null,
      "outputs": []
    },
    {
      "cell_type": "code",
      "source": [
        "df.groupby(\"geo_region\")[\"passenger_count\"].describe().T #coğrafi bölgeye göre yolcu sayıları"
      ],
      "metadata": {
        "id": "xlW3EKYzeuWi"
      },
      "execution_count": null,
      "outputs": []
    },
    {
      "cell_type": "markdown",
      "source": [
        "<a id=\"4\"></a>\n",
        "## 4.Data Preprocessing"
      ],
      "metadata": {
        "id": "IQJY6h-afLBy"
      }
    },
    {
      "cell_type": "code",
      "source": [
        "# missing values query(eksik değer sorgulama)\n",
        "\n",
        "df.isnull().sum()"
      ],
      "metadata": {
        "id": "vufbL7Wbe_0_"
      },
      "execution_count": null,
      "outputs": []
    },
    {
      "cell_type": "code",
      "source": [
        "# verisetimizde 2 değişkende eksik değer var\n",
        "# there are missing values in 2 variables in our data"
      ],
      "metadata": {
        "id": "dsMUYX0XfRHi"
      },
      "execution_count": null,
      "outputs": []
    },
    {
      "cell_type": "code",
      "source": [
        "# eksik değerleri gidermeden önce dapılımları inceleyelim\n",
        "# let's examine the data before removing the missing values"
      ],
      "metadata": {
        "id": "jn5FnIWjfzzg"
      },
      "execution_count": null,
      "outputs": []
    },
    {
      "cell_type": "code",
      "source": [
        "# sayısal ve kategorik değerler için birer liste oluşturalım\n",
        "# let's create a list for numerical and categorical values"
      ],
      "metadata": {
        "id": "w_PFaORGf3Be"
      },
      "execution_count": null,
      "outputs": []
    },
    {
      "cell_type": "code",
      "source": [
        "cat_list=[]\n",
        "num_list=[]\n",
        "\n",
        "for i in df.columns:\n",
        "    unique_val=len(df[i].unique())\n",
        "    \n",
        "    if unique_val<78:\n",
        "        cat_list.append(i)\n",
        "    else:\n",
        "        num_list.append(i)"
      ],
      "metadata": {
        "id": "7FIVYl1qf5mP"
      },
      "execution_count": null,
      "outputs": []
    },
    {
      "cell_type": "code",
      "source": [
        "cat_list"
      ],
      "metadata": {
        "id": "zpFx7OQef9as"
      },
      "execution_count": null,
      "outputs": []
    },
    {
      "cell_type": "code",
      "source": [
        "num_list"
      ],
      "metadata": {
        "id": "Cp52UqgOgBN-"
      },
      "execution_count": null,
      "outputs": []
    },
    {
      "cell_type": "code",
      "source": [
        "# Eksik değer Görselleştirme"
      ],
      "metadata": {
        "id": "gKhssKXagDj8"
      },
      "execution_count": null,
      "outputs": []
    },
    {
      "cell_type": "code",
      "source": [
        "\n",
        "msno.matrix(df)\n",
        "plt.show()"
      ],
      "metadata": {
        "id": "3wB7yQ3igOGB"
      },
      "execution_count": null,
      "outputs": []
    },
    {
      "cell_type": "code",
      "source": [
        "# eksik değer korelasyon;\n",
        "\n",
        "msno.heatmap(df)\n",
        "plt.show()"
      ],
      "metadata": {
        "id": "6k4SBidegRC6"
      },
      "execution_count": null,
      "outputs": []
    },
    {
      "cell_type": "code",
      "source": [
        "# eksik değerlerin birbiriyle tamamen bağlantılı olduğunu görmüş olduk\n",
        "# we have seen that the missing values are completely related to each other"
      ],
      "metadata": {
        "id": "00PMTFflgcV_"
      },
      "execution_count": null,
      "outputs": []
    },
    {
      "cell_type": "code",
      "source": [
        "df[df.operating_airline_iata_code.isna()]"
      ],
      "metadata": {
        "id": "nvyhYwZTgkOw"
      },
      "execution_count": null,
      "outputs": []
    },
    {
      "cell_type": "code",
      "source": [
        "#eksik değerler kategorik bunları giderelim\n",
        "#missing values let's fix them categorically"
      ],
      "metadata": {
        "id": "lUbjySVbgnNJ"
      },
      "execution_count": null,
      "outputs": []
    },
    {
      "cell_type": "code",
      "source": [
        "#belirli bir sıralamayla eksik değerler var,kendisnden önceki değerlerle doldralım\n",
        "#there are missing values in a certain order, let's fill them with the previous values"
      ],
      "metadata": {
        "id": "Dq3djHSsgxOd"
      },
      "execution_count": null,
      "outputs": []
    },
    {
      "cell_type": "code",
      "source": [
        "df.operating_airline_iata_code.fillna(method=\"ffill\",inplace=True)\n",
        "df.published_airline_iata_code.fillna(method=\"ffill\",inplace=True)"
      ],
      "metadata": {
        "id": "ch4lOZ6ZgzWt"
      },
      "execution_count": null,
      "outputs": []
    },
    {
      "cell_type": "code",
      "source": [
        "df.isna().sum()"
      ],
      "metadata": {
        "id": "zNXFLHbjg21L"
      },
      "execution_count": null,
      "outputs": []
    },
    {
      "cell_type": "code",
      "source": [
        "#eksik değerleri gidermiş olduk,sayısal değişkenlerin dağılımlarına bakalım\n",
        "##we have corrected the missing values,let's look at the distributions of numerical variables"
      ],
      "metadata": {
        "id": "NRAG1ph4g5Nl"
      },
      "execution_count": null,
      "outputs": []
    },
    {
      "cell_type": "code",
      "source": [
        "k=1\n",
        "plt.figure(figsize=(12,12))\n",
        "plt.tight_layout()\n",
        "plt.suptitle(\"distribution of numerical values\")\n",
        "\n",
        "\n",
        "for i in df.loc[:,num_list]:\n",
        "    plt.subplot(2,1,k)   \n",
        "    sns.distplot(df[i])\n",
        "    plt.title(i)\n",
        "    k+=1"
      ],
      "metadata": {
        "id": "6bCYa-k_g8TK"
      },
      "execution_count": null,
      "outputs": []
    },
    {
      "cell_type": "code",
      "source": [
        "k=1\n",
        "plt.figure(figsize=(10,10))\n",
        "plt.suptitle(\"Distribution of Outliers\")\n",
        "\n",
        "for i in df.loc[:,num_list]:\n",
        "    plt.subplot(2,2,k)\n",
        "    sns.boxplot(x = i, data = df.loc[:,num_list])\n",
        "    plt.title(i)\n",
        "    k+=1\n"
      ],
      "metadata": {
        "id": "weDwVGvBhKNr"
      },
      "execution_count": null,
      "outputs": []
    },
    {
      "cell_type": "code",
      "source": [
        "#iki değişkende aynı anlamı ifade ediyor aslında,korelasyonlar sonrasında gerekirse birisini sileriz\n",
        "#it means the same thing in two variables, in fact, we delete one of them if necessary after correlations"
      ],
      "metadata": {
        "id": "IpLxXJ0KhU78"
      },
      "execution_count": null,
      "outputs": []
    },
    {
      "cell_type": "markdown",
      "source": [
        "### Data Visualize"
      ],
      "metadata": {
        "id": "BdORUSCaiwNK"
      }
    },
    {
      "cell_type": "code",
      "source": [
        "#categorical analysis\n",
        "\n",
        "for i in cat_list:\n",
        "    \n",
        "    plt.figure(figsize=(13,13))\n",
        "    sns.countplot(x=i,data=df.loc[:,cat_list])\n",
        "    plt.title(i)\n"
      ],
      "metadata": {
        "id": "-KnwjEqBitiF"
      },
      "execution_count": null,
      "outputs": []
    },
    {
      "cell_type": "code",
      "source": [
        "# numerical analsis\n",
        "\n",
        "sns.pairplot(df.loc[:,num_list]);"
      ],
      "metadata": {
        "id": "m6zORRqwi1ED"
      },
      "execution_count": null,
      "outputs": []
    },
    {
      "cell_type": "code",
      "source": [
        "# buradan iki sayısal değişkenin birbiriyle tamamen bağlantılı olduğunu görebiliriz\n",
        "# from here we can see that the two numerical variables are completely connected to each other"
      ],
      "metadata": {
        "id": "ApWlHOrejFbN"
      },
      "execution_count": null,
      "outputs": []
    },
    {
      "cell_type": "code",
      "source": [
        "df.hist(figsize=(6,6));"
      ],
      "metadata": {
        "id": "jd-BW1K4jIzh"
      },
      "execution_count": null,
      "outputs": []
    },
    {
      "cell_type": "code",
      "source": [
        "plt.figure(figsize=(15,15))\n",
        "plt.subplot(3,3,1)\n",
        "sns.scatterplot(x ='year',y ='passenger_count',data = df)\n",
        "plt.subplot(3,3,2)\n",
        "sns.pointplot(x=\"month\",y=\"passenger_count\",data=df)\n",
        "plt.subplot(3,3,3)\n",
        "sns.barplot(x=\"year\",y=\"passenger_count\",data=df)\n",
        "plt.subplot(3,3,4)\n",
        "sns.barplot(x=\"geo_region\",y=\"passenger_count\",data=df)\n",
        "plt.subplot(3,3,5)\n",
        "sns.barplot(x=\"geo_summary\",y=\"passenger_count\",data=df)\n",
        "plt.subplot(3,3,6)\n",
        "sns.barplot(x=\"price_category_code\",y=\"passenger_count\",data=df)\n",
        "plt.subplot(3,3,7)\n",
        "sns.barplot(x=\"terminal\",y=\"passenger_count\",data=df)\n"
      ],
      "metadata": {
        "id": "8sjyvR0ijL_y"
      },
      "execution_count": null,
      "outputs": []
    },
    {
      "cell_type": "markdown",
      "source": [
        "### ENCODİNG"
      ],
      "metadata": {
        "id": "xa_O-3-1jgkg"
      }
    },
    {
      "cell_type": "code",
      "source": [
        "from sklearn.preprocessing import LabelEncoder"
      ],
      "metadata": {
        "id": "B0k0HKD-jQq6"
      },
      "execution_count": null,
      "outputs": []
    },
    {
      "cell_type": "code",
      "source": [
        "le=LabelEncoder()"
      ],
      "metadata": {
        "id": "ySWz7LPujmNt"
      },
      "execution_count": null,
      "outputs": []
    },
    {
      "cell_type": "code",
      "source": [
        "\n",
        "df[\"operating_airline\"]=le.fit_transform(df[\"operating_airline\"])\n",
        "df[\"operating_airline_iata_code\"]=le.fit_transform(df[\"operating_airline_iata_code\"])\n",
        "df[\"published_airline\"]=le.fit_transform(df[\"published_airline\"])\n",
        "df[\"published_airline_iata_code\"]=le.fit_transform(df[\"published_airline_iata_code\"])\n",
        "df[\"geo_summary\"]=le.fit_transform(df[\"geo_summary\"])\n",
        "df[\"geo_region\"]=le.fit_transform(df[\"geo_region\"])\n",
        "df[\"activity_type_code\"]=le.fit_transform(df[\"activity_type_code\"])\n",
        "df[\"price_category_code\"]=le.fit_transform(df[\"price_category_code\"])\n",
        "df[\"terminal\"]=le.fit_transform(df[\"terminal\"])\n",
        "df[\"boarding_area\"]=le.fit_transform(df[\"boarding_area\"])\n",
        "df[\"adjusted_activity_type_code\"]=le.fit_transform(df[\"adjusted_activity_type_code\"])\n",
        "df[\"month\"]=le.fit_transform(df[\"month\"])"
      ],
      "metadata": {
        "id": "ft6DZFySjopL"
      },
      "execution_count": null,
      "outputs": []
    },
    {
      "cell_type": "code",
      "source": [
        "df.head()"
      ],
      "metadata": {
        "id": "Et68PGL1jrra"
      },
      "execution_count": null,
      "outputs": []
    },
    {
      "cell_type": "code",
      "source": [
        "#tüm değerleri numerike çevirdik\n",
        "#we have converted all values to numeric"
      ],
      "metadata": {
        "id": "WxnFmpUbjxGm"
      },
      "execution_count": null,
      "outputs": []
    },
    {
      "cell_type": "markdown",
      "source": [
        "### Corelation Analysis"
      ],
      "metadata": {
        "id": "EaCvAyZHlVK_"
      }
    },
    {
      "cell_type": "code",
      "source": [
        "plt.figure(figsize=(14,14))\n",
        "sns.heatmap(df.corr(),annot=True,linewidths=0.7,fmt=\".2f\",cmap=\"coolwarm\")\n",
        "plt.show()"
      ],
      "metadata": {
        "id": "bj64JPbUj2ta"
      },
      "execution_count": null,
      "outputs": []
    },
    {
      "cell_type": "code",
      "source": [
        "#korelasyonu yüksek olan değişkenleri atalım;\n",
        "# Let's discard the variables with high correlation;"
      ],
      "metadata": {
        "id": "9RYRSzdelYHA"
      },
      "execution_count": null,
      "outputs": []
    },
    {
      "cell_type": "code",
      "source": [
        "df.columns"
      ],
      "metadata": {
        "id": "U8nGCZ_Frbju"
      },
      "execution_count": null,
      "outputs": []
    },
    {
      "cell_type": "code",
      "source": [
        "df.drop([\"adjusted_activity_type_code\",\"adjusted_passenger_count\",\"geo_summary\",\n",
        "         \"operating_airline_iata_code\",\"published_airline\"],axis=1,inplace=True)"
      ],
      "metadata": {
        "id": "pkLZAU9PtJKy"
      },
      "execution_count": null,
      "outputs": []
    },
    {
      "cell_type": "code",
      "source": [
        "df.head()"
      ],
      "metadata": {
        "id": "QQRNYqEUuSDY"
      },
      "execution_count": null,
      "outputs": []
    },
    {
      "cell_type": "code",
      "source": [
        "#iki yaklaşım kullanalım,1.normal veri,2.si standartlaştıralım karşılaştıralım\n",
        "#use two approaches, 1st normal data, 2nd standardize and compare"
      ],
      "metadata": {
        "id": "9rXqajdnuTxr"
      },
      "execution_count": null,
      "outputs": []
    },
    {
      "cell_type": "markdown",
      "source": [
        "<a id=\"5\"></a>\n",
        "## 5.K-MEANS"
      ],
      "metadata": {
        "id": "WHnO8MzFvIEn"
      }
    },
    {
      "cell_type": "code",
      "source": [
        "#1. yaklaşım ilk durumdaki veri üzerinden(normal data);"
      ],
      "metadata": {
        "id": "p13wFeyou932"
      },
      "execution_count": null,
      "outputs": []
    },
    {
      "cell_type": "code",
      "source": [
        "kmeans=KMeans().fit(df)\n"
      ],
      "metadata": {
        "id": "4NEojrOnvXUQ"
      },
      "execution_count": null,
      "outputs": []
    },
    {
      "cell_type": "code",
      "source": [
        "# let's find the optimum number of clusters;\n",
        "#optimum küme sayısını bulalım;"
      ],
      "metadata": {
        "id": "R1A46pUvve_f"
      },
      "execution_count": null,
      "outputs": []
    },
    {
      "cell_type": "code",
      "source": [
        "score=[]\n",
        "K=range(1,10)\n",
        "\n",
        "for i in K:\n",
        "    kmeans=KMeans(n_clusters=i,init=\"k-means++\",random_state=0)\n",
        "    kmeans.fit(df)\n",
        "    score.append(kmeans.inertia_)"
      ],
      "metadata": {
        "id": "g1KyR4Ltvu1X"
      },
      "execution_count": null,
      "outputs": []
    },
    {
      "cell_type": "code",
      "source": [
        "#visualize;\n",
        "\n",
        "plt.plot(K,score,color=\"red\")\n",
        "plt.xlabel(\"k value\")\n",
        "plt.ylabel(\"wcss value\")\n",
        "plt.show()"
      ],
      "metadata": {
        "id": "cA-OngSzxVEF"
      },
      "execution_count": null,
      "outputs": []
    },
    {
      "cell_type": "code",
      "source": [
        "# optimum küme sayısı seçilebilir"
      ],
      "metadata": {
        "id": "2lfy75PbxZkn"
      },
      "execution_count": null,
      "outputs": []
    },
    {
      "cell_type": "code",
      "source": [
        "#2.yaklaşım standartlaştırma;"
      ],
      "metadata": {
        "id": "m3pfUmb228yZ"
      },
      "execution_count": null,
      "outputs": []
    },
    {
      "cell_type": "code",
      "source": [
        "from sklearn.preprocessing import StandardScaler"
      ],
      "metadata": {
        "id": "DBbIiUN93BYx"
      },
      "execution_count": null,
      "outputs": []
    },
    {
      "cell_type": "code",
      "source": [
        "sc=StandardScaler()"
      ],
      "metadata": {
        "id": "67OCLKmT3IvM"
      },
      "execution_count": null,
      "outputs": []
    },
    {
      "cell_type": "code",
      "source": [
        "X_std=sc.fit_transform(df)"
      ],
      "metadata": {
        "id": "T2nVwXVK3KUW"
      },
      "execution_count": null,
      "outputs": []
    },
    {
      "cell_type": "code",
      "source": [
        "score=[]\n",
        "K=range(1,10)\n",
        "\n",
        "for i in K:\n",
        "    kmeans=KMeans(n_clusters=i,init=\"k-means++\",random_state=0)\n",
        "    kmeans.fit(X_std)\n",
        "    score.append(kmeans.inertia_)"
      ],
      "metadata": {
        "id": "Fsm33lS33LLG"
      },
      "execution_count": null,
      "outputs": []
    },
    {
      "cell_type": "code",
      "source": [
        "#visualize;\n",
        "\n",
        "plt.plot(K,score,color=\"red\")\n",
        "plt.xlabel(\"k value\")\n",
        "plt.ylabel(\"wcss value\")\n",
        "plt.show()"
      ],
      "metadata": {
        "id": "LXThyuE73RHJ"
      },
      "execution_count": null,
      "outputs": []
    },
    {
      "cell_type": "code",
      "source": [
        "# küme sayısı arttı,ilk durum üzerinden gidelim;\n",
        "# number of clusters increased, let's go through the first case;"
      ],
      "metadata": {
        "id": "H-9x7zhx3blY"
      },
      "execution_count": null,
      "outputs": []
    },
    {
      "cell_type": "code",
      "source": [
        "#final model;\n",
        "kmeans=KMeans(n_clusters=3,init=\"k-means++\").fit(df)"
      ],
      "metadata": {
        "id": "js2ABneH3r1R"
      },
      "execution_count": null,
      "outputs": []
    },
    {
      "cell_type": "code",
      "source": [
        "#add tag values;\n",
        "\n",
        "#etiket değerleri ekleyelim;"
      ],
      "metadata": {
        "id": "EkqQX_dU4I2_"
      },
      "execution_count": null,
      "outputs": []
    },
    {
      "cell_type": "code",
      "source": [
        "cluster=kmeans.labels_\n",
        "cluster"
      ],
      "metadata": {
        "id": "dKEVB27B4ScX"
      },
      "execution_count": null,
      "outputs": []
    },
    {
      "cell_type": "code",
      "source": [
        "df[\"cluster_no\"]=cluster\n",
        "df.head()"
      ],
      "metadata": {
        "id": "xg4VhXkF4W8F"
      },
      "execution_count": null,
      "outputs": []
    },
    {
      "cell_type": "code",
      "source": [
        "#divided into clusters\n",
        "#kümelere ayırdık"
      ],
      "metadata": {
        "id": "TzhBuqhe4cJX"
      },
      "execution_count": null,
      "outputs": []
    },
    {
      "cell_type": "code",
      "source": [
        "df.cluster_no.value_counts()"
      ],
      "metadata": {
        "id": "09QfKH5Q4e-Q"
      },
      "execution_count": null,
      "outputs": []
    },
    {
      "cell_type": "code",
      "source": [
        "# her kümenin kaç elemandan oluştuğunu gözlemledik\n",
        "# we observed how many elements each set consists of"
      ],
      "metadata": {
        "id": "MVfYOJWg4kpk"
      },
      "execution_count": null,
      "outputs": []
    },
    {
      "cell_type": "code",
      "source": [
        "# kümeleme işlemini başarıyla gerçekleştirdik\n",
        "# we have successfully performed the clustering operation"
      ],
      "metadata": {
        "id": "T5AJiji14o9U"
      },
      "execution_count": null,
      "outputs": []
    },
    {
      "cell_type": "markdown",
      "source": [
        "<a id=\"6\"></a>\n",
        "## 6.Hierarcihal Cluster"
      ],
      "metadata": {
        "id": "e9KXjRfB5cSM"
      }
    },
    {
      "cell_type": "code",
      "source": [
        "dendogram=sch.dendrogram(sch.linkage(df,method=\"ward\"))\n",
        "plt.show()"
      ],
      "metadata": {
        "id": "QPkdDKEn4srq"
      },
      "execution_count": null,
      "outputs": []
    },
    {
      "cell_type": "code",
      "source": [
        "# görüldüğü 5 noktasınnda çok rahat bir şekilde 3 küme seçimi ideal görünüyor...\n",
        "# 3 cluster selection seems ideal in a very comfortable way at the 5 point of view..."
      ],
      "metadata": {
        "id": "k6UrcVfe5ljD"
      },
      "execution_count": null,
      "outputs": []
    },
    {
      "cell_type": "markdown",
      "source": [
        "<a id=\"7\"></a>\n",
        "## 7.Conclusion"
      ],
      "metadata": {
        "id": "6IMH0Zik7eAo"
      }
    },
    {
      "cell_type": "markdown",
      "source": [
        "Airlines Traffic Passenger Statistics verisetini kullanarak kümeleme işlemi gerçekleştirdik.\n",
        "Amacımız;uçuşların farklı  özelliklerinden yola çıkarak benzerliklerine göre kümelere ayırmaktır.\n",
        "\n",
        "Bu veri seti, havayolu tarafından hava trafiği yolcu istatistikleri hakkında bilgi içerir. Uçuşların kalkış ve varış yaptığı havayolları, havalimanları ve bölgelere ilişkin bilgileri içerir. Ayrıca faaliyet türü, fiyat kategorisi, terminal, biniş alanı ve yolcu sayısı hakkında bilgiler içerir.\n",
        "\n",
        "\n",
        "We performed clustering using the Airlines Traffic Passenger Statistics dataset.\n",
        "Our aim is to divide the flights into clusters based on their similarities, based on their different characteristics.\n",
        "\n",
        "This dataset contains information about air traffic passenger statistics by airline. It contains information about airlines, airports and regions from which flights depart and arrive. It also contains information about the type of activity, price category, terminal, boarding area and number of passengers."
      ],
      "metadata": {
        "id": "hHZzYj2i753-"
      }
    }
  ]
}